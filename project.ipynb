{
 "cells": [
  {
   "cell_type": "markdown",
   "metadata": {},
   "source": [
    "# Project: **Name of method** in **name of software**\n",
    "\n",
    "This notebook is a blank slate for you to write in.  Feel free to include figures (don't forget to add/commit them to your repository) and examples.  You can change the kernel (from `Python 3`; see upper right) if the open source project you're writing about does not use Python.  You can write from the prompts below or delete all the cells and start fresh.  Note that Git will always contain your history.\n"
   ]
  },
  {
   "cell_type": "markdown",
   "metadata": {},
   "source": [
    "## N-Body simulation \n",
    "github source:https://github.com/drons/nbody, https://github.com/leomartire/MiniNBody\n",
    "\n",
    "Since I am really into astronomy so I take a look at nbody simulators. These two are N-body simulation programs and both of them use multiple methods to simulate large scale astronomical objects gravitational interaction. The methods they use are for solving initial value probelm (IVP) for the ordinary differential equation(ODE). For nbody, it is like given the initial position and velocity of each object and then using that to simulate their movement.\n",
    "The first porgram (https://github.com/drons/nbody) is created by drons (github username). The program is mainly in c++. Often use for galaxy simulations.\n",
    "\n",
    "# Methods use in programs\n",
    "Here are the integration methods used in one of the program\n",
    "<img src=\"integration_methods.png\">\n",
    "\n",
    "As shown in the table, the classic Euler method (aka the numerical method learned in a math ode class) is a one step method. The accuracy of the result is tied to the well-posedness of the initial value probelm.\n",
    "<img src=\"euler.jpg\">\n",
    "\n",
    "Another one step method is Midpoint Method, similar to the one we have learn in the rootfing section. This method is based on Euler's method, instsead of taking a full step, midpoint method take half step to do the approximation.\n",
    "Also there are multistep methods, the Adams-Bashforth method. This method is explicit, and the error in approximating the integral is O(b^m+1). This method is often used (I think) in galaxy collision, combining it with the Barnes-Hut algorithm, as shown in this website -> https://beltoforion.de/article.php?a=barnes-hut-galaxy-simulator#idExample.\n",
    "\n",
    "<img src=\"collision.gif\">\n",
    "\n",
    "### Quesitons\n",
    "Since we haven't cover odes in class, please point out any mistake I have made."
   ]
  },
  {
   "cell_type": "code",
   "execution_count": null,
   "metadata": {},
   "outputs": [],
   "source": []
  }
 ],
 "metadata": {
  "kernelspec": {
   "display_name": "Python 3",
   "language": "python",
   "name": "python3"
  },
  "language_info": {
   "codemirror_mode": {
    "name": "ipython",
    "version": 3
   },
   "file_extension": ".py",
   "mimetype": "text/x-python",
   "name": "python",
   "nbconvert_exporter": "python",
   "pygments_lexer": "ipython3",
   "version": "3.7.3"
  }
 },
 "nbformat": 4,
 "nbformat_minor": 4
}
